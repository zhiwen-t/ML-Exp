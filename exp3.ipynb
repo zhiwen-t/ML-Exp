{
 "metadata": {
  "kernelspec": {
   "name": "python3",
   "display_name": "Python 3 (ipykernel)",
   "language": "python"
  },
  "language_info": {
   "name": "python",
   "version": "3.7.13",
   "mimetype": "text/x-python",
   "codemirror_mode": {
    "name": "ipython",
    "version": 3
   },
   "pygments_lexer": "ipython3",
   "nbconvert_exporter": "python",
   "file_extension": ".py"
  }
 },
 "nbformat_minor": 4,
 "nbformat": 4,
 "cells": [
  {
   "cell_type": "code",
   "source": [
    "!pip install torch==1.11.0 torchvision==0.12.0 tensorboard==2.11.0 tensorboardX "
   ],
   "metadata": {
    "trusted": true,
    "ExecuteTime": {
     "end_time": "2024-04-28T15:08:41.005597Z",
     "start_time": "2024-04-28T15:08:39.835711Z"
    }
   },
   "execution_count": 10,
   "outputs": [
    {
     "name": "stdout",
     "output_type": "stream",
     "text": [
      "Looking in indexes: https://pypi.tuna.tsinghua.edu.cn/simple\n",
      "Requirement already satisfied: torch==1.11.0 in d:\\projects\\mlexp\\.venv\\lib\\site-packages (1.11.0)\n",
      "Requirement already satisfied: torchvision==0.12.0 in d:\\projects\\mlexp\\.venv\\lib\\site-packages (0.12.0)\n",
      "Requirement already satisfied: tensorboard==2.11.0 in d:\\projects\\mlexp\\.venv\\lib\\site-packages (2.11.0)\n",
      "Requirement already satisfied: tensorboardX in d:\\projects\\mlexp\\.venv\\lib\\site-packages (2.6.2.2)\n",
      "Requirement already satisfied: typing-extensions in d:\\projects\\mlexp\\.venv\\lib\\site-packages (from torch==1.11.0) (4.11.0)\n",
      "Requirement already satisfied: numpy in d:\\projects\\mlexp\\.venv\\lib\\site-packages (from torchvision==0.12.0) (1.26.4)\n",
      "Requirement already satisfied: requests in d:\\projects\\mlexp\\.venv\\lib\\site-packages (from torchvision==0.12.0) (2.31.0)\n",
      "Requirement already satisfied: pillow!=8.3.*,>=5.3.0 in d:\\projects\\mlexp\\.venv\\lib\\site-packages (from torchvision==0.12.0) (10.3.0)\n",
      "Requirement already satisfied: absl-py>=0.4 in d:\\projects\\mlexp\\.venv\\lib\\site-packages (from tensorboard==2.11.0) (2.1.0)\n",
      "Requirement already satisfied: grpcio>=1.24.3 in d:\\projects\\mlexp\\.venv\\lib\\site-packages (from tensorboard==2.11.0) (1.62.2)\n",
      "Requirement already satisfied: google-auth<3,>=1.6.3 in d:\\projects\\mlexp\\.venv\\lib\\site-packages (from tensorboard==2.11.0) (2.29.0)\n",
      "Requirement already satisfied: google-auth-oauthlib<0.5,>=0.4.1 in d:\\projects\\mlexp\\.venv\\lib\\site-packages (from tensorboard==2.11.0) (0.4.6)\n",
      "Requirement already satisfied: markdown>=2.6.8 in d:\\projects\\mlexp\\.venv\\lib\\site-packages (from tensorboard==2.11.0) (3.6)\n",
      "Requirement already satisfied: protobuf<4,>=3.9.2 in d:\\projects\\mlexp\\.venv\\lib\\site-packages (from tensorboard==2.11.0) (3.20.3)\n",
      "Requirement already satisfied: setuptools>=41.0.0 in d:\\projects\\mlexp\\.venv\\lib\\site-packages (from tensorboard==2.11.0) (68.2.0)\n",
      "Requirement already satisfied: tensorboard-data-server<0.7.0,>=0.6.0 in d:\\projects\\mlexp\\.venv\\lib\\site-packages (from tensorboard==2.11.0) (0.6.1)\n",
      "Requirement already satisfied: tensorboard-plugin-wit>=1.6.0 in d:\\projects\\mlexp\\.venv\\lib\\site-packages (from tensorboard==2.11.0) (1.8.1)\n",
      "Requirement already satisfied: werkzeug>=1.0.1 in d:\\projects\\mlexp\\.venv\\lib\\site-packages (from tensorboard==2.11.0) (3.0.2)\n",
      "Requirement already satisfied: wheel>=0.26 in d:\\projects\\mlexp\\.venv\\lib\\site-packages (from tensorboard==2.11.0) (0.41.2)\n",
      "Requirement already satisfied: packaging in d:\\projects\\mlexp\\.venv\\lib\\site-packages (from tensorboardX) (24.0)\n",
      "Requirement already satisfied: cachetools<6.0,>=2.0.0 in d:\\projects\\mlexp\\.venv\\lib\\site-packages (from google-auth<3,>=1.6.3->tensorboard==2.11.0) (5.3.3)\n",
      "Requirement already satisfied: pyasn1-modules>=0.2.1 in d:\\projects\\mlexp\\.venv\\lib\\site-packages (from google-auth<3,>=1.6.3->tensorboard==2.11.0) (0.4.0)\n",
      "Requirement already satisfied: rsa<5,>=3.1.4 in d:\\projects\\mlexp\\.venv\\lib\\site-packages (from google-auth<3,>=1.6.3->tensorboard==2.11.0) (4.9)\n",
      "Requirement already satisfied: requests-oauthlib>=0.7.0 in d:\\projects\\mlexp\\.venv\\lib\\site-packages (from google-auth-oauthlib<0.5,>=0.4.1->tensorboard==2.11.0) (2.0.0)\n",
      "Requirement already satisfied: charset-normalizer<4,>=2 in d:\\projects\\mlexp\\.venv\\lib\\site-packages (from requests->torchvision==0.12.0) (3.3.2)\n",
      "Requirement already satisfied: idna<4,>=2.5 in d:\\projects\\mlexp\\.venv\\lib\\site-packages (from requests->torchvision==0.12.0) (3.7)\n",
      "Requirement already satisfied: urllib3<3,>=1.21.1 in d:\\projects\\mlexp\\.venv\\lib\\site-packages (from requests->torchvision==0.12.0) (2.2.1)\n",
      "Requirement already satisfied: certifi>=2017.4.17 in d:\\projects\\mlexp\\.venv\\lib\\site-packages (from requests->torchvision==0.12.0) (2024.2.2)\n",
      "Requirement already satisfied: MarkupSafe>=2.1.1 in d:\\projects\\mlexp\\.venv\\lib\\site-packages (from werkzeug>=1.0.1->tensorboard==2.11.0) (2.1.5)\n",
      "Requirement already satisfied: pyasn1<0.7.0,>=0.4.6 in d:\\projects\\mlexp\\.venv\\lib\\site-packages (from pyasn1-modules>=0.2.1->google-auth<3,>=1.6.3->tensorboard==2.11.0) (0.6.0)\n",
      "Requirement already satisfied: oauthlib>=3.0.0 in d:\\projects\\mlexp\\.venv\\lib\\site-packages (from requests-oauthlib>=0.7.0->google-auth-oauthlib<0.5,>=0.4.1->tensorboard==2.11.0) (3.2.2)\n"
     ]
    }
   ]
  },
  {
   "cell_type": "code",
   "source": [
    "import torch\n",
    "import torch.nn as nn\n",
    "import torch.optim as optim\n",
    "from torchvision import datasets, transforms\n",
    "from torch.utils.data import DataLoader\n",
    "from torch.utils.tensorboard import SummaryWriter"
   ],
   "metadata": {
    "trusted": true,
    "ExecuteTime": {
     "end_time": "2024-04-28T15:08:43.732336Z",
     "start_time": "2024-04-28T15:08:43.724736Z"
    }
   },
   "execution_count": 11,
   "outputs": []
  },
  {
   "cell_type": "code",
   "source": [
    "%load_ext tensorboard\n",
    "writer = SummaryWriter('runs/mlexp3')"
   ],
   "metadata": {
    "trusted": true,
    "ExecuteTime": {
     "end_time": "2024-04-28T15:08:45.095232Z",
     "start_time": "2024-04-28T15:08:45.078619Z"
    }
   },
   "execution_count": 12,
   "outputs": [
    {
     "name": "stdout",
     "output_type": "stream",
     "text": [
      "The tensorboard extension is already loaded. To reload it, use:\n",
      "  %reload_ext tensorboard\n"
     ]
    }
   ]
  },
  {
   "cell_type": "markdown",
   "source": [
    "# 1. 数据集加载与预处理"
   ],
   "metadata": {}
  },
  {
   "cell_type": "code",
   "source": [
    "preprocess = transforms.Compose([\n",
    "    transforms.ToTensor(),\n",
    "    transforms.Normalize((0.5,), (0.5,))\n",
    "])\n",
    "\n",
    "#TODO: 导入数据集、完成预处理\n",
    "train_dataset = datasets.MNIST(root='./data', train=True, download=True, transform=preprocess)\n",
    "test_dataset = ...\n",
    "\n",
    "# 创建dataloader\n",
    "train_loader = DataLoader(train_dataset, batch_size=64, shuffle=True)\n",
    "test_loader = ..."
   ],
   "metadata": {
    "trusted": true,
    "ExecuteTime": {
     "end_time": "2024-04-28T15:08:57.599099Z",
     "start_time": "2024-04-28T15:08:57.554848Z"
    }
   },
   "execution_count": 13,
   "outputs": []
  },
  {
   "cell_type": "markdown",
   "source": [
    " ## 2. 神经网络构建"
   ],
   "metadata": {}
  },
  {
   "cell_type": "code",
   "source": [
    "class MyNeuralNet(nn.Module):\n",
    "    \n",
    "    #TODO: 定义神经网络参数\n",
    "    def __init__(self):\n",
    "        super(MyNeuralNet, self).__init__()\n",
    "        self.flatten = nn.Flatten()\n",
    "        ...\n",
    "\n",
    "    #TODO: 定义神经网络前向传播计算\n",
    "    def forward(self, x):\n",
    "       \n",
    "        return ..."
   ],
   "metadata": {
    "trusted": true,
    "ExecuteTime": {
     "end_time": "2024-04-28T15:09:04.773485Z",
     "start_time": "2024-04-28T15:09:04.756466Z"
    }
   },
   "execution_count": 14,
   "outputs": []
  },
  {
   "cell_type": "code",
   "source": [
    "# 初始化模型\n",
    "model = MyNeuralNet()\n",
    "\n",
    "# 选择设备\n",
    "device = torch.device(\"cuda\" if torch.cuda.is_available() else \"cpu\")\n",
    "model.to(device)\n",
    "\n",
    "#TODO: 定义损失函数和优化器\n",
    "criterion = ...\n",
    "optimizer = optim.SGD(model.parameters(), lr=...)"
   ],
   "metadata": {
    "trusted": true,
    "ExecuteTime": {
     "end_time": "2024-04-28T15:09:06.500239Z",
     "start_time": "2024-04-28T15:09:06.484518Z"
    }
   },
   "execution_count": 15,
   "outputs": []
  },
  {
   "cell_type": "markdown",
   "source": [
    "## 3. 模型训练"
   ],
   "metadata": {}
  },
  {
   "cell_type": "code",
   "source": [
    "%tensorboard --logdir=runs/"
   ],
   "metadata": {
    "trusted": true,
    "ExecuteTime": {
     "end_time": "2024-04-28T15:09:08.677781Z",
     "start_time": "2024-04-28T15:09:08.662783Z"
    }
   },
   "execution_count": 16,
   "outputs": [
    {
     "data": {
      "text/plain": "Reusing TensorBoard on port 6006 (pid 22788), started 0:03:43 ago. (Use '!kill 22788' to kill it.)"
     },
     "metadata": {},
     "output_type": "display_data"
    },
    {
     "data": {
      "text/plain": "<IPython.core.display.HTML object>",
      "text/html": "\n      <iframe id=\"tensorboard-frame-29d2105b9b7d3b83\" width=\"100%\" height=\"800\" frameborder=\"0\">\n      </iframe>\n      <script>\n        (function() {\n          const frame = document.getElementById(\"tensorboard-frame-29d2105b9b7d3b83\");\n          const url = new URL(\"/\", window.location);\n          const port = 6006;\n          if (port) {\n            url.port = port;\n          }\n          frame.src = url;\n        })();\n      </script>\n    "
     },
     "metadata": {},
     "output_type": "display_data"
    }
   ]
  },
  {
   "cell_type": "code",
   "outputs": [
    {
     "name": "stdout",
     "output_type": "stream",
     "text": [
      "Epoch 1\n",
      "-------------------------------\n",
      "loss: 2.284447  [    0/60000]\n",
      "loss: 0.736033  [ 6400/60000]\n",
      "loss: 0.360450  [12800/60000]\n",
      "loss: 0.261375  [19200/60000]\n",
      "loss: 0.352879  [25600/60000]\n",
      "loss: 0.382256  [32000/60000]\n",
      "loss: 0.283479  [38400/60000]\n",
      "loss: 0.337245  [44800/60000]\n",
      "loss: 0.216639  [51200/60000]\n",
      "loss: 0.211294  [57600/60000]\n",
      "Epoch 2\n",
      "-------------------------------\n",
      "loss: 0.222856  [    0/60000]\n",
      "loss: 0.103788  [ 6400/60000]\n",
      "loss: 0.088709  [12800/60000]\n",
      "loss: 0.143138  [19200/60000]\n",
      "loss: 0.049774  [25600/60000]\n",
      "loss: 0.186687  [32000/60000]\n",
      "loss: 0.133014  [38400/60000]\n",
      "loss: 0.089180  [44800/60000]\n",
      "loss: 0.107177  [51200/60000]\n",
      "loss: 0.110362  [57600/60000]\n",
      "Epoch 3\n",
      "-------------------------------\n",
      "loss: 0.072255  [    0/60000]\n",
      "loss: 0.045456  [ 6400/60000]\n",
      "loss: 0.101867  [12800/60000]\n",
      "loss: 0.024271  [19200/60000]\n",
      "loss: 0.140065  [25600/60000]\n",
      "loss: 0.073218  [32000/60000]\n",
      "loss: 0.174802  [38400/60000]\n",
      "loss: 0.048066  [44800/60000]\n",
      "loss: 0.047333  [51200/60000]\n",
      "loss: 0.119819  [57600/60000]\n",
      "Epoch 4\n",
      "-------------------------------\n",
      "loss: 0.013877  [    0/60000]\n",
      "loss: 0.106693  [ 6400/60000]\n",
      "loss: 0.042345  [12800/60000]\n",
      "loss: 0.149655  [19200/60000]\n",
      "loss: 0.085243  [25600/60000]\n",
      "loss: 0.082460  [32000/60000]\n",
      "loss: 0.250647  [38400/60000]\n",
      "loss: 0.112228  [44800/60000]\n",
      "loss: 0.078811  [51200/60000]\n",
      "loss: 0.076864  [57600/60000]\n",
      "Epoch 5\n",
      "-------------------------------\n",
      "loss: 0.121441  [    0/60000]\n",
      "loss: 0.015063  [ 6400/60000]\n",
      "loss: 0.067899  [12800/60000]\n",
      "loss: 0.013611  [19200/60000]\n",
      "loss: 0.047795  [25600/60000]\n",
      "loss: 0.023394  [32000/60000]\n",
      "loss: 0.029020  [38400/60000]\n",
      "loss: 0.088244  [44800/60000]\n",
      "loss: 0.217266  [51200/60000]\n",
      "loss: 0.033651  [57600/60000]\n",
      "Training done!\n"
     ]
    }
   ],
   "source": [
    "def train(dataloader, model, loss_fn, optimizer):\n",
    "    model.train()\n",
    "    for batch, (X, y) in enumerate(dataloader):\n",
    "        X, y = X.to(device), y.to(device)\n",
    "\n",
    "        # 计算预测误差\n",
    "        pred = model(X)\n",
    "        loss = loss_fn(pred, y)\n",
    "\n",
    "        #TODO: 反向传播\n",
    "        ...\n",
    "\n",
    "\n",
    "        if batch % 100 == 0:\n",
    "            loss, current = loss.item(), batch * len(X)\n",
    "            print(f\"loss: {loss:>7f}  [{current:>5d}/{len(dataloader.dataset):>5d}]\")\n",
    "        \n",
    "        #TODO: 用tensorboard记录loss值变化\n",
    "        writer.add_scalar(...)\n",
    "\n",
    "\n",
    "#TODO: 模型训练\n",
    "for epoch in range(1, 6):  \n",
    "    print(f\"Epoch {epoch}\\n-------------------------------\")\n",
    "    train(...)\n",
    "print(\"Training done!\")"
   ],
   "metadata": {
    "trusted": true,
    "ExecuteTime": {
     "end_time": "2024-04-28T15:10:00.774767Z",
     "start_time": "2024-04-28T15:09:13.909699Z"
    }
   },
   "execution_count": 17
  },
  {
   "cell_type": "markdown",
   "source": [
    "## 4. 模型评估"
   ],
   "metadata": {}
  },
  {
   "cell_type": "code",
   "outputs": [
    {
     "ename": "NameError",
     "evalue": "name 'test_loader' is not defined",
     "output_type": "error",
     "traceback": [
      "\u001B[1;31m---------------------------------------------------------------------------\u001B[0m",
      "\u001B[1;31mNameError\u001B[0m                                 Traceback (most recent call last)",
      "Cell \u001B[1;32mIn[2], line 16\u001B[0m\n\u001B[0;32m     13\u001B[0m     \u001B[38;5;28mprint\u001B[39m(\u001B[38;5;124mf\u001B[39m\u001B[38;5;124m\"\u001B[39m\u001B[38;5;124mTest Error: \u001B[39m\u001B[38;5;130;01m\\n\u001B[39;00m\u001B[38;5;124m Accuracy: \u001B[39m\u001B[38;5;132;01m{\u001B[39;00m(\u001B[38;5;241m100\u001B[39m\u001B[38;5;241m*\u001B[39mcorrect)\u001B[38;5;132;01m:\u001B[39;00m\u001B[38;5;124m>0.1f\u001B[39m\u001B[38;5;132;01m}\u001B[39;00m\u001B[38;5;124m%, Avg loss: \u001B[39m\u001B[38;5;132;01m{\u001B[39;00mtest_loss\u001B[38;5;132;01m:\u001B[39;00m\u001B[38;5;124m>8f\u001B[39m\u001B[38;5;132;01m}\u001B[39;00m\u001B[38;5;124m \u001B[39m\u001B[38;5;130;01m\\n\u001B[39;00m\u001B[38;5;124m\"\u001B[39m)\n\u001B[0;32m     15\u001B[0m \u001B[38;5;66;03m# 测试模型\u001B[39;00m\n\u001B[1;32m---> 16\u001B[0m test(\u001B[43mtest_loader\u001B[49m, model)\n",
      "\u001B[1;31mNameError\u001B[0m: name 'test_loader' is not defined"
     ]
    }
   ],
   "source": [
    "def test(dataloader, model):\n",
    "    model.eval()\n",
    "    test_loss, correct = 0, 0\n",
    "    with torch.no_grad():\n",
    "        for X, y in dataloader:\n",
    "            X, y = X.to(device), y.to(device)\n",
    "            pred = model(X)\n",
    "            test_loss += criterion(pred, y).item()\n",
    "            correct += (pred.argmax(1) == y).type(torch.float).sum().item()\n",
    "\n",
    "    test_loss /= len(dataloader.dataset)\n",
    "    correct /= len(dataloader.dataset)\n",
    "    print(f\"Test Error: \\n Accuracy: {(100*correct):>0.1f}%, Avg loss: {test_loss:>8f} \\n\")\n",
    "\n",
    "#TODO:测试模型\n",
    "test(...)"
   ],
   "metadata": {
    "trusted": true,
    "ExecuteTime": {
     "end_time": "2024-04-28T15:57:43.417264Z",
     "start_time": "2024-04-28T15:57:43.377694Z"
    }
   },
   "execution_count": 2
  },
  {
   "cell_type": "code",
   "source": [],
   "metadata": {},
   "outputs": []
  }
 ]
}
